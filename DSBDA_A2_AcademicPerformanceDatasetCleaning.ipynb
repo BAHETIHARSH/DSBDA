{
  "cells": [
    {
      "cell_type": "code",
      "execution_count": null,
      "metadata": {
        "id": "4XKNbtrX5Js0"
      },
      "outputs": [],
      "source": [
        "import pandas as pd\n",
        "import numpy as np\n",
        "df = pd.read_csv(\"performance.csv\")"
      ]
    },
    {
      "cell_type": "code",
      "execution_count": null,
      "metadata": {
        "id": "nFEPM5Zw5Js4",
        "outputId": "f74bf28a-3925-4bab-e47e-d53b15c5466d"
      },
      "outputs": [
        {
          "data": {
            "text/plain": [
              "(122, 18)"
            ]
          },
          "execution_count": 2,
          "metadata": {},
          "output_type": "execute_result"
        }
      ],
      "source": [
        "df.shape"
      ]
    },
    {
      "cell_type": "code",
      "execution_count": null,
      "metadata": {
        "id": "EPJIBk7w5Js7",
        "outputId": "2ecd7bca-73c3-4194-f028-72c4e5c6d6e8"
      },
      "outputs": [
        {
          "data": {
            "text/html": [
              "<div>\n",
              "<style scoped>\n",
              "    .dataframe tbody tr th:only-of-type {\n",
              "        vertical-align: middle;\n",
              "    }\n",
              "\n",
              "    .dataframe tbody tr th {\n",
              "        vertical-align: top;\n",
              "    }\n",
              "\n",
              "    .dataframe thead th {\n",
              "        text-align: right;\n",
              "    }\n",
              "</style>\n",
              "<table border=\"1\" class=\"dataframe\">\n",
              "  <thead>\n",
              "    <tr style=\"text-align: right;\">\n",
              "      <th></th>\n",
              "      <th>Timestamp</th>\n",
              "      <th>Email Address</th>\n",
              "      <th>Name of student</th>\n",
              "      <th>Roll Number (e.g. A101, B202)</th>\n",
              "      <th>Division</th>\n",
              "      <th>Age</th>\n",
              "      <th>Gender</th>\n",
              "      <th>Study time in hrs</th>\n",
              "      <th>FE pointer(e.g. 7.9)</th>\n",
              "      <th>SE pointer(e.g. 7.9)</th>\n",
              "      <th>number of subject failed in</th>\n",
              "      <th>current backlogs</th>\n",
              "      <th>Additional courses opted</th>\n",
              "      <th>number of paper published</th>\n",
              "      <th>intership opted</th>\n",
              "      <th>10th marks in percentage</th>\n",
              "      <th>12th marks in percentage</th>\n",
              "      <th>10th and 12th university/board</th>\n",
              "    </tr>\n",
              "  </thead>\n",
              "  <tbody>\n",
              "    <tr>\n",
              "      <th>0</th>\n",
              "      <td>1/18/2022 14:34:30</td>\n",
              "      <td>nikita.khairnar19@pccoepune.org</td>\n",
              "      <td>Nikita Vijay Khairnar</td>\n",
              "      <td>B213</td>\n",
              "      <td>B</td>\n",
              "      <td>20</td>\n",
              "      <td>F</td>\n",
              "      <td>3</td>\n",
              "      <td>9.20</td>\n",
              "      <td>9.95</td>\n",
              "      <td>0</td>\n",
              "      <td>0</td>\n",
              "      <td>NaN</td>\n",
              "      <td>NaN</td>\n",
              "      <td>YES</td>\n",
              "      <td>93.6</td>\n",
              "      <td>82.31</td>\n",
              "      <td>STATE</td>\n",
              "    </tr>\n",
              "    <tr>\n",
              "      <th>1</th>\n",
              "      <td>1/18/2022 14:34:31</td>\n",
              "      <td>krishnankit.dixit19@pccoepune.org</td>\n",
              "      <td>Krishnankit Dixit</td>\n",
              "      <td>TECOA143</td>\n",
              "      <td>A</td>\n",
              "      <td>21</td>\n",
              "      <td>M</td>\n",
              "      <td>5</td>\n",
              "      <td>9.36</td>\n",
              "      <td>9.41</td>\n",
              "      <td>0</td>\n",
              "      <td>0</td>\n",
              "      <td>Web development, Python, Data structures and a...</td>\n",
              "      <td>0</td>\n",
              "      <td>YES</td>\n",
              "      <td>89</td>\n",
              "      <td>83</td>\n",
              "      <td>STATE</td>\n",
              "    </tr>\n",
              "    <tr>\n",
              "      <th>2</th>\n",
              "      <td>1/18/2022 14:34:38</td>\n",
              "      <td>karthi.dhanasekaran19@pccoepune.org</td>\n",
              "      <td>Karthi Dhanasekaran</td>\n",
              "      <td>B275</td>\n",
              "      <td>B</td>\n",
              "      <td>21</td>\n",
              "      <td>M</td>\n",
              "      <td>2</td>\n",
              "      <td>8.45</td>\n",
              "      <td>9.45</td>\n",
              "      <td>0</td>\n",
              "      <td>0</td>\n",
              "      <td>AI/ML</td>\n",
              "      <td>1</td>\n",
              "      <td>YES</td>\n",
              "      <td>82.8</td>\n",
              "      <td>84.6</td>\n",
              "      <td>CBSE</td>\n",
              "    </tr>\n",
              "    <tr>\n",
              "      <th>3</th>\n",
              "      <td>1/18/2022 14:34:44</td>\n",
              "      <td>shreyash.patil19@pccoepune.org</td>\n",
              "      <td>Shreyash patil</td>\n",
              "      <td>B264</td>\n",
              "      <td>B</td>\n",
              "      <td>21</td>\n",
              "      <td>M</td>\n",
              "      <td>0.7</td>\n",
              "      <td>8.50</td>\n",
              "      <td>9.20</td>\n",
              "      <td>0</td>\n",
              "      <td>0</td>\n",
              "      <td>Python, c, c++</td>\n",
              "      <td>1</td>\n",
              "      <td>NO</td>\n",
              "      <td>89</td>\n",
              "      <td>79</td>\n",
              "      <td>STATE</td>\n",
              "    </tr>\n",
              "    <tr>\n",
              "      <th>4</th>\n",
              "      <td>1/18/2022 14:34:54</td>\n",
              "      <td>hitesh.kotecha19@pccoepune.org</td>\n",
              "      <td>Hitesh Kotecha</td>\n",
              "      <td>B220</td>\n",
              "      <td>B</td>\n",
              "      <td>20</td>\n",
              "      <td>M</td>\n",
              "      <td>4</td>\n",
              "      <td>8.40</td>\n",
              "      <td>8.70</td>\n",
              "      <td>0</td>\n",
              "      <td>0</td>\n",
              "      <td>0</td>\n",
              "      <td>0</td>\n",
              "      <td>YES</td>\n",
              "      <td>88</td>\n",
              "      <td>74</td>\n",
              "      <td>STATE</td>\n",
              "    </tr>\n",
              "  </tbody>\n",
              "</table>\n",
              "</div>"
            ],
            "text/plain": [
              "            Timestamp                        Email Address  \\\n",
              "0  1/18/2022 14:34:30      nikita.khairnar19@pccoepune.org   \n",
              "1  1/18/2022 14:34:31    krishnankit.dixit19@pccoepune.org   \n",
              "2  1/18/2022 14:34:38  karthi.dhanasekaran19@pccoepune.org   \n",
              "3  1/18/2022 14:34:44       shreyash.patil19@pccoepune.org   \n",
              "4  1/18/2022 14:34:54       hitesh.kotecha19@pccoepune.org   \n",
              "\n",
              "         Name of student Roll Number (e.g. A101, B202) Division  Age Gender   \\\n",
              "0  Nikita Vijay Khairnar                          B213        B   20       F   \n",
              "1      Krishnankit Dixit                      TECOA143        A   21       M   \n",
              "2    Karthi Dhanasekaran                          B275        B   21       M   \n",
              "3         Shreyash patil                          B264        B   21       M   \n",
              "4         Hitesh Kotecha                          B220        B   20       M   \n",
              "\n",
              "  Study time in hrs  FE pointer(e.g. 7.9)  SE pointer(e.g. 7.9)  \\\n",
              "0                 3                  9.20                  9.95   \n",
              "1                 5                  9.36                  9.41   \n",
              "2                 2                  8.45                  9.45   \n",
              "3               0.7                  8.50                  9.20   \n",
              "4                 4                  8.40                  8.70   \n",
              "\n",
              "  number of subject failed in current backlogs  \\\n",
              "0                           0                0   \n",
              "1                           0                0   \n",
              "2                           0                0   \n",
              "3                           0                0   \n",
              "4                           0                0   \n",
              "\n",
              "                            Additional courses opted  \\\n",
              "0                                                NaN   \n",
              "1  Web development, Python, Data structures and a...   \n",
              "2                                              AI/ML   \n",
              "3                                     Python, c, c++   \n",
              "4                                                  0   \n",
              "\n",
              "  number of paper published  intership opted 10th marks in percentage  \\\n",
              "0                       NaN              YES                     93.6   \n",
              "1                         0              YES                       89   \n",
              "2                         1              YES                     82.8   \n",
              "3                         1               NO                       89   \n",
              "4                         0              YES                       88   \n",
              "\n",
              "  12th marks in percentage 10th and 12th university/board  \n",
              "0                    82.31                          STATE  \n",
              "1                       83                          STATE  \n",
              "2                     84.6                           CBSE  \n",
              "3                       79                          STATE  \n",
              "4                       74                          STATE  "
            ]
          },
          "execution_count": 3,
          "metadata": {},
          "output_type": "execute_result"
        }
      ],
      "source": [
        "df.head()"
      ]
    },
    {
      "cell_type": "code",
      "execution_count": null,
      "metadata": {
        "id": "wJHo0s4c5Js8",
        "outputId": "28485589-aeda-4cb1-f5b8-25c9815278f8"
      },
      "outputs": [
        {
          "data": {
            "text/html": [
              "<div>\n",
              "<style scoped>\n",
              "    .dataframe tbody tr th:only-of-type {\n",
              "        vertical-align: middle;\n",
              "    }\n",
              "\n",
              "    .dataframe tbody tr th {\n",
              "        vertical-align: top;\n",
              "    }\n",
              "\n",
              "    .dataframe thead th {\n",
              "        text-align: right;\n",
              "    }\n",
              "</style>\n",
              "<table border=\"1\" class=\"dataframe\">\n",
              "  <thead>\n",
              "    <tr style=\"text-align: right;\">\n",
              "      <th></th>\n",
              "      <th>Timestamp</th>\n",
              "      <th>Email Address</th>\n",
              "      <th>Name of student</th>\n",
              "      <th>Roll Number (e.g. A101, B202)</th>\n",
              "      <th>Division</th>\n",
              "      <th>Age</th>\n",
              "      <th>Gender</th>\n",
              "      <th>Study time in hrs</th>\n",
              "      <th>FE pointer(e.g. 7.9)</th>\n",
              "      <th>SE pointer(e.g. 7.9)</th>\n",
              "      <th>number of subject failed in</th>\n",
              "      <th>current backlogs</th>\n",
              "      <th>Additional courses opted</th>\n",
              "      <th>number of paper published</th>\n",
              "      <th>intership opted</th>\n",
              "      <th>10th marks in percentage</th>\n",
              "      <th>12th marks in percentage</th>\n",
              "      <th>10th and 12th university/board</th>\n",
              "    </tr>\n",
              "  </thead>\n",
              "  <tbody>\n",
              "    <tr>\n",
              "      <th>117</th>\n",
              "      <td>1/18/2022 14:44:58</td>\n",
              "      <td>apoorva.datir19@pccoepune.org</td>\n",
              "      <td>Apoorva Datir</td>\n",
              "      <td>TECOA134</td>\n",
              "      <td>A</td>\n",
              "      <td>19</td>\n",
              "      <td>F</td>\n",
              "      <td>6</td>\n",
              "      <td>8.70</td>\n",
              "      <td>9.70</td>\n",
              "      <td>0</td>\n",
              "      <td>0</td>\n",
              "      <td>5</td>\n",
              "      <td>0</td>\n",
              "      <td>YES</td>\n",
              "      <td>98</td>\n",
              "      <td>89</td>\n",
              "      <td>STATE</td>\n",
              "    </tr>\n",
              "    <tr>\n",
              "      <th>118</th>\n",
              "      <td>1/18/2022 14:45:58</td>\n",
              "      <td>sangram.more19@pccoepune.org</td>\n",
              "      <td>Sangram More</td>\n",
              "      <td>B238</td>\n",
              "      <td>B</td>\n",
              "      <td>20</td>\n",
              "      <td>M</td>\n",
              "      <td>1</td>\n",
              "      <td>7.89</td>\n",
              "      <td>9.59</td>\n",
              "      <td>0</td>\n",
              "      <td>0</td>\n",
              "      <td>0</td>\n",
              "      <td>0</td>\n",
              "      <td>NO</td>\n",
              "      <td>81</td>\n",
              "      <td>80.31</td>\n",
              "      <td>CBSE</td>\n",
              "    </tr>\n",
              "    <tr>\n",
              "      <th>119</th>\n",
              "      <td>1/18/2022 14:48:11</td>\n",
              "      <td>palak.gupta19@pccoepune.org</td>\n",
              "      <td>Palak Gupta</td>\n",
              "      <td>TECOA162</td>\n",
              "      <td>A</td>\n",
              "      <td>20</td>\n",
              "      <td>F</td>\n",
              "      <td>3</td>\n",
              "      <td>9.82</td>\n",
              "      <td>9.95</td>\n",
              "      <td>0</td>\n",
              "      <td>0</td>\n",
              "      <td>NaN</td>\n",
              "      <td>NaN</td>\n",
              "      <td>YES</td>\n",
              "      <td>98.2</td>\n",
              "      <td>87.23</td>\n",
              "      <td>STATE</td>\n",
              "    </tr>\n",
              "    <tr>\n",
              "      <th>120</th>\n",
              "      <td>1/18/2022 14:52:34</td>\n",
              "      <td>vedant.chaudhari19@pccoepune.org</td>\n",
              "      <td>Vedant Chaudhari</td>\n",
              "      <td>A124</td>\n",
              "      <td>A</td>\n",
              "      <td>20</td>\n",
              "      <td>M</td>\n",
              "      <td>NaN</td>\n",
              "      <td>8.50</td>\n",
              "      <td>9.80</td>\n",
              "      <td>NaN</td>\n",
              "      <td>NaN</td>\n",
              "      <td>1</td>\n",
              "      <td>NaN</td>\n",
              "      <td>YES</td>\n",
              "      <td>96</td>\n",
              "      <td>86</td>\n",
              "      <td>CBSE</td>\n",
              "    </tr>\n",
              "    <tr>\n",
              "      <th>121</th>\n",
              "      <td>1/18/2022 15:09:04</td>\n",
              "      <td>prajwal.bhargade19@pccoepune.org</td>\n",
              "      <td>Prajwal Ganesh Bhargade</td>\n",
              "      <td>A116</td>\n",
              "      <td>A</td>\n",
              "      <td>21</td>\n",
              "      <td>M</td>\n",
              "      <td>7</td>\n",
              "      <td>6.40</td>\n",
              "      <td>9.25</td>\n",
              "      <td>1</td>\n",
              "      <td>0</td>\n",
              "      <td>no</td>\n",
              "      <td>no</td>\n",
              "      <td>NO</td>\n",
              "      <td>85</td>\n",
              "      <td>67</td>\n",
              "      <td>STATE</td>\n",
              "    </tr>\n",
              "  </tbody>\n",
              "</table>\n",
              "</div>"
            ],
            "text/plain": [
              "              Timestamp                     Email Address  \\\n",
              "117  1/18/2022 14:44:58     apoorva.datir19@pccoepune.org   \n",
              "118  1/18/2022 14:45:58      sangram.more19@pccoepune.org   \n",
              "119  1/18/2022 14:48:11       palak.gupta19@pccoepune.org   \n",
              "120  1/18/2022 14:52:34  vedant.chaudhari19@pccoepune.org   \n",
              "121  1/18/2022 15:09:04  prajwal.bhargade19@pccoepune.org   \n",
              "\n",
              "             Name of student Roll Number (e.g. A101, B202) Division  Age  \\\n",
              "117            Apoorva Datir                      TECOA134        A   19   \n",
              "118             Sangram More                          B238        B   20   \n",
              "119              Palak Gupta                      TECOA162        A   20   \n",
              "120         Vedant Chaudhari                          A124        A   20   \n",
              "121  Prajwal Ganesh Bhargade                          A116        A   21   \n",
              "\n",
              "    Gender  Study time in hrs  FE pointer(e.g. 7.9)  SE pointer(e.g. 7.9)  \\\n",
              "117       F                 6                  8.70                  9.70   \n",
              "118       M                 1                  7.89                  9.59   \n",
              "119       F                 3                  9.82                  9.95   \n",
              "120       M               NaN                  8.50                  9.80   \n",
              "121       M                 7                  6.40                  9.25   \n",
              "\n",
              "    number of subject failed in current backlogs Additional courses opted  \\\n",
              "117                           0                0                        5   \n",
              "118                           0                0                        0   \n",
              "119                           0                0                      NaN   \n",
              "120                         NaN              NaN                        1   \n",
              "121                           1                0                       no   \n",
              "\n",
              "    number of paper published  intership opted 10th marks in percentage  \\\n",
              "117                         0              YES                       98   \n",
              "118                         0               NO                       81   \n",
              "119                       NaN              YES                     98.2   \n",
              "120                       NaN              YES                       96   \n",
              "121                        no               NO                       85   \n",
              "\n",
              "    12th marks in percentage 10th and 12th university/board  \n",
              "117                       89                          STATE  \n",
              "118                    80.31                           CBSE  \n",
              "119                    87.23                          STATE  \n",
              "120                       86                           CBSE  \n",
              "121                       67                          STATE  "
            ]
          },
          "execution_count": 4,
          "metadata": {},
          "output_type": "execute_result"
        }
      ],
      "source": [
        "df.tail()"
      ]
    },
    {
      "cell_type": "code",
      "execution_count": null,
      "metadata": {
        "id": "ADkHYu8H5Js-",
        "outputId": "577086ad-771e-4b72-97df-d71b632b259f"
      },
      "outputs": [
        {
          "data": {
            "text/html": [
              "<div>\n",
              "<style scoped>\n",
              "    .dataframe tbody tr th:only-of-type {\n",
              "        vertical-align: middle;\n",
              "    }\n",
              "\n",
              "    .dataframe tbody tr th {\n",
              "        vertical-align: top;\n",
              "    }\n",
              "\n",
              "    .dataframe thead th {\n",
              "        text-align: right;\n",
              "    }\n",
              "</style>\n",
              "<table border=\"1\" class=\"dataframe\">\n",
              "  <thead>\n",
              "    <tr style=\"text-align: right;\">\n",
              "      <th></th>\n",
              "      <th>Age</th>\n",
              "      <th>FE pointer(e.g. 7.9)</th>\n",
              "      <th>SE pointer(e.g. 7.9)</th>\n",
              "    </tr>\n",
              "  </thead>\n",
              "  <tbody>\n",
              "    <tr>\n",
              "      <th>count</th>\n",
              "      <td>122.000000</td>\n",
              "      <td>112.000000</td>\n",
              "      <td>122.000000</td>\n",
              "    </tr>\n",
              "    <tr>\n",
              "      <th>mean</th>\n",
              "      <td>20.221311</td>\n",
              "      <td>8.126339</td>\n",
              "      <td>9.366803</td>\n",
              "    </tr>\n",
              "    <tr>\n",
              "      <th>std</th>\n",
              "      <td>0.582277</td>\n",
              "      <td>1.132027</td>\n",
              "      <td>0.553019</td>\n",
              "    </tr>\n",
              "    <tr>\n",
              "      <th>min</th>\n",
              "      <td>19.000000</td>\n",
              "      <td>0.000000</td>\n",
              "      <td>6.200000</td>\n",
              "    </tr>\n",
              "    <tr>\n",
              "      <th>25%</th>\n",
              "      <td>20.000000</td>\n",
              "      <td>7.500000</td>\n",
              "      <td>9.212500</td>\n",
              "    </tr>\n",
              "    <tr>\n",
              "      <th>50%</th>\n",
              "      <td>20.000000</td>\n",
              "      <td>8.285000</td>\n",
              "      <td>9.500000</td>\n",
              "    </tr>\n",
              "    <tr>\n",
              "      <th>75%</th>\n",
              "      <td>21.000000</td>\n",
              "      <td>8.840000</td>\n",
              "      <td>9.700000</td>\n",
              "    </tr>\n",
              "    <tr>\n",
              "      <th>max</th>\n",
              "      <td>22.000000</td>\n",
              "      <td>9.820000</td>\n",
              "      <td>10.000000</td>\n",
              "    </tr>\n",
              "  </tbody>\n",
              "</table>\n",
              "</div>"
            ],
            "text/plain": [
              "              Age  FE pointer(e.g. 7.9)  SE pointer(e.g. 7.9)\n",
              "count  122.000000            112.000000            122.000000\n",
              "mean    20.221311              8.126339              9.366803\n",
              "std      0.582277              1.132027              0.553019\n",
              "min     19.000000              0.000000              6.200000\n",
              "25%     20.000000              7.500000              9.212500\n",
              "50%     20.000000              8.285000              9.500000\n",
              "75%     21.000000              8.840000              9.700000\n",
              "max     22.000000              9.820000             10.000000"
            ]
          },
          "execution_count": 5,
          "metadata": {},
          "output_type": "execute_result"
        }
      ],
      "source": [
        "df.describe()"
      ]
    },
    {
      "cell_type": "code",
      "execution_count": null,
      "metadata": {
        "id": "pRnuuSaF5JtA",
        "outputId": "e7d9f327-19da-43a0-9efa-e9d22a882373"
      },
      "outputs": [
        {
          "data": {
            "text/plain": [
              "Timestamp                          0\n",
              "Email Address                      0\n",
              "Name of student                    0\n",
              "Roll Number (e.g. A101, B202)      0\n",
              "Division                           0\n",
              "Age                                0\n",
              "Gender                             0\n",
              "Study time in hrs                  6\n",
              "FE pointer(e.g. 7.9)              10\n",
              "SE pointer(e.g. 7.9)               0\n",
              "number of subject failed in        3\n",
              "current backlogs                   4\n",
              "Additional courses opted          11\n",
              "number of paper published          9\n",
              " intership opted                   1\n",
              "10th marks in percentage           0\n",
              "12th marks in percentage           2\n",
              "10th and 12th university/board     0\n",
              "dtype: int64"
            ]
          },
          "execution_count": 6,
          "metadata": {},
          "output_type": "execute_result"
        }
      ],
      "source": [
        "df.isnull().sum()"
      ]
    },
    {
      "cell_type": "markdown",
      "metadata": {
        "id": "Qr8tStcB5JtC"
      },
      "source": [
        "# ROLL NUMBER COLUMN PREPROCESSING"
      ]
    },
    {
      "cell_type": "code",
      "execution_count": null,
      "metadata": {
        "id": "gJC7gpyL5JtE",
        "outputId": "7ef46c4a-4908-433f-9a87-9cd92b9e41d6"
      },
      "outputs": [
        {
          "name": "stderr",
          "output_type": "stream",
          "text": [
            "<ipython-input-7-48e2a9601510>:7: SettingWithCopyWarning: \n",
            "A value is trying to be set on a copy of a slice from a DataFrame\n",
            "\n",
            "See the caveats in the documentation: https://pandas.pydata.org/pandas-docs/stable/user_guide/indexing.html#returning-a-view-versus-a-copy\n",
            "  df['Roll Number (e.g. A101, B202)'][i[0]] = df['Roll Number (e.g. A101, B202)'][i[0]][-4:]\n"
          ]
        },
        {
          "data": {
            "text/html": [
              "<div>\n",
              "<style scoped>\n",
              "    .dataframe tbody tr th:only-of-type {\n",
              "        vertical-align: middle;\n",
              "    }\n",
              "\n",
              "    .dataframe tbody tr th {\n",
              "        vertical-align: top;\n",
              "    }\n",
              "\n",
              "    .dataframe thead th {\n",
              "        text-align: right;\n",
              "    }\n",
              "</style>\n",
              "<table border=\"1\" class=\"dataframe\">\n",
              "  <thead>\n",
              "    <tr style=\"text-align: right;\">\n",
              "      <th></th>\n",
              "      <th>Timestamp</th>\n",
              "      <th>Email Address</th>\n",
              "      <th>Name of student</th>\n",
              "      <th>Roll Number (e.g. A101, B202)</th>\n",
              "      <th>Division</th>\n",
              "      <th>Age</th>\n",
              "      <th>Gender</th>\n",
              "      <th>Study time in hrs</th>\n",
              "      <th>FE pointer(e.g. 7.9)</th>\n",
              "      <th>SE pointer(e.g. 7.9)</th>\n",
              "      <th>number of subject failed in</th>\n",
              "      <th>current backlogs</th>\n",
              "      <th>Additional courses opted</th>\n",
              "      <th>number of paper published</th>\n",
              "      <th>intership opted</th>\n",
              "      <th>10th marks in percentage</th>\n",
              "      <th>12th marks in percentage</th>\n",
              "      <th>10th and 12th university/board</th>\n",
              "    </tr>\n",
              "  </thead>\n",
              "  <tbody>\n",
              "    <tr>\n",
              "      <th>0</th>\n",
              "      <td>1/18/2022 14:34:30</td>\n",
              "      <td>nikita.khairnar19@pccoepune.org</td>\n",
              "      <td>Nikita Vijay Khairnar</td>\n",
              "      <td>B213</td>\n",
              "      <td>B</td>\n",
              "      <td>20</td>\n",
              "      <td>F</td>\n",
              "      <td>3</td>\n",
              "      <td>9.20</td>\n",
              "      <td>9.95</td>\n",
              "      <td>0</td>\n",
              "      <td>0</td>\n",
              "      <td>NaN</td>\n",
              "      <td>NaN</td>\n",
              "      <td>YES</td>\n",
              "      <td>93.6</td>\n",
              "      <td>82.31</td>\n",
              "      <td>STATE</td>\n",
              "    </tr>\n",
              "    <tr>\n",
              "      <th>1</th>\n",
              "      <td>1/18/2022 14:34:31</td>\n",
              "      <td>krishnankit.dixit19@pccoepune.org</td>\n",
              "      <td>Krishnankit Dixit</td>\n",
              "      <td>A143</td>\n",
              "      <td>A</td>\n",
              "      <td>21</td>\n",
              "      <td>M</td>\n",
              "      <td>5</td>\n",
              "      <td>9.36</td>\n",
              "      <td>9.41</td>\n",
              "      <td>0</td>\n",
              "      <td>0</td>\n",
              "      <td>Web development, Python, Data structures and a...</td>\n",
              "      <td>0</td>\n",
              "      <td>YES</td>\n",
              "      <td>89</td>\n",
              "      <td>83</td>\n",
              "      <td>STATE</td>\n",
              "    </tr>\n",
              "    <tr>\n",
              "      <th>2</th>\n",
              "      <td>1/18/2022 14:34:38</td>\n",
              "      <td>karthi.dhanasekaran19@pccoepune.org</td>\n",
              "      <td>Karthi Dhanasekaran</td>\n",
              "      <td>B275</td>\n",
              "      <td>B</td>\n",
              "      <td>21</td>\n",
              "      <td>M</td>\n",
              "      <td>2</td>\n",
              "      <td>8.45</td>\n",
              "      <td>9.45</td>\n",
              "      <td>0</td>\n",
              "      <td>0</td>\n",
              "      <td>AI/ML</td>\n",
              "      <td>1</td>\n",
              "      <td>YES</td>\n",
              "      <td>82.8</td>\n",
              "      <td>84.6</td>\n",
              "      <td>CBSE</td>\n",
              "    </tr>\n",
              "    <tr>\n",
              "      <th>3</th>\n",
              "      <td>1/18/2022 14:34:44</td>\n",
              "      <td>shreyash.patil19@pccoepune.org</td>\n",
              "      <td>Shreyash patil</td>\n",
              "      <td>B264</td>\n",
              "      <td>B</td>\n",
              "      <td>21</td>\n",
              "      <td>M</td>\n",
              "      <td>0.7</td>\n",
              "      <td>8.50</td>\n",
              "      <td>9.20</td>\n",
              "      <td>0</td>\n",
              "      <td>0</td>\n",
              "      <td>Python, c, c++</td>\n",
              "      <td>1</td>\n",
              "      <td>NO</td>\n",
              "      <td>89</td>\n",
              "      <td>79</td>\n",
              "      <td>STATE</td>\n",
              "    </tr>\n",
              "    <tr>\n",
              "      <th>4</th>\n",
              "      <td>1/18/2022 14:34:54</td>\n",
              "      <td>hitesh.kotecha19@pccoepune.org</td>\n",
              "      <td>Hitesh Kotecha</td>\n",
              "      <td>B220</td>\n",
              "      <td>B</td>\n",
              "      <td>20</td>\n",
              "      <td>M</td>\n",
              "      <td>4</td>\n",
              "      <td>8.40</td>\n",
              "      <td>8.70</td>\n",
              "      <td>0</td>\n",
              "      <td>0</td>\n",
              "      <td>0</td>\n",
              "      <td>0</td>\n",
              "      <td>YES</td>\n",
              "      <td>88</td>\n",
              "      <td>74</td>\n",
              "      <td>STATE</td>\n",
              "    </tr>\n",
              "  </tbody>\n",
              "</table>\n",
              "</div>"
            ],
            "text/plain": [
              "            Timestamp                        Email Address  \\\n",
              "0  1/18/2022 14:34:30      nikita.khairnar19@pccoepune.org   \n",
              "1  1/18/2022 14:34:31    krishnankit.dixit19@pccoepune.org   \n",
              "2  1/18/2022 14:34:38  karthi.dhanasekaran19@pccoepune.org   \n",
              "3  1/18/2022 14:34:44       shreyash.patil19@pccoepune.org   \n",
              "4  1/18/2022 14:34:54       hitesh.kotecha19@pccoepune.org   \n",
              "\n",
              "         Name of student Roll Number (e.g. A101, B202) Division  Age Gender   \\\n",
              "0  Nikita Vijay Khairnar                          B213        B   20       F   \n",
              "1      Krishnankit Dixit                          A143        A   21       M   \n",
              "2    Karthi Dhanasekaran                          B275        B   21       M   \n",
              "3         Shreyash patil                          B264        B   21       M   \n",
              "4         Hitesh Kotecha                          B220        B   20       M   \n",
              "\n",
              "  Study time in hrs  FE pointer(e.g. 7.9)  SE pointer(e.g. 7.9)  \\\n",
              "0                 3                  9.20                  9.95   \n",
              "1                 5                  9.36                  9.41   \n",
              "2                 2                  8.45                  9.45   \n",
              "3               0.7                  8.50                  9.20   \n",
              "4                 4                  8.40                  8.70   \n",
              "\n",
              "  number of subject failed in current backlogs  \\\n",
              "0                           0                0   \n",
              "1                           0                0   \n",
              "2                           0                0   \n",
              "3                           0                0   \n",
              "4                           0                0   \n",
              "\n",
              "                            Additional courses opted  \\\n",
              "0                                                NaN   \n",
              "1  Web development, Python, Data structures and a...   \n",
              "2                                              AI/ML   \n",
              "3                                     Python, c, c++   \n",
              "4                                                  0   \n",
              "\n",
              "  number of paper published  intership opted 10th marks in percentage  \\\n",
              "0                       NaN              YES                     93.6   \n",
              "1                         0              YES                       89   \n",
              "2                         1              YES                     82.8   \n",
              "3                         1               NO                       89   \n",
              "4                         0              YES                       88   \n",
              "\n",
              "  12th marks in percentage 10th and 12th university/board  \n",
              "0                    82.31                          STATE  \n",
              "1                       83                          STATE  \n",
              "2                     84.6                           CBSE  \n",
              "3                       79                          STATE  \n",
              "4                       74                          STATE  "
            ]
          },
          "execution_count": 7,
          "metadata": {},
          "output_type": "execute_result"
        }
      ],
      "source": [
        "# for i in df['Roll Number (e.g. A101, B202)']:\n",
        "#     i = i[-4:]\n",
        "#     print(i)\n",
        "\n",
        "for i in df['Roll Number (e.g. A101, B202)'].iteritems():\n",
        "#     df.at[i,'ifor'] = ifor\n",
        "    df['Roll Number (e.g. A101, B202)'][i[0]] = df['Roll Number (e.g. A101, B202)'][i[0]][-4:]\n",
        "df.head()"
      ]
    },
    {
      "cell_type": "code",
      "execution_count": null,
      "metadata": {
        "id": "Ds_FiTfe5JtH",
        "outputId": "735f2aff-2f73-49c3-c46f-47a722f74a0f"
      },
      "outputs": [
        {
          "name": "stderr",
          "output_type": "stream",
          "text": [
            "<ipython-input-8-9fee26d8b2f7>:4: SettingWithCopyWarning: \n",
            "A value is trying to be set on a copy of a slice from a DataFrame\n",
            "\n",
            "See the caveats in the documentation: https://pandas.pydata.org/pandas-docs/stable/user_guide/indexing.html#returning-a-view-versus-a-copy\n",
            "  df['Roll Number (e.g. A101, B202)'][i[0]] = df['Roll Number (e.g. A101, B202)'][i[0]][-3:]\n"
          ]
        },
        {
          "data": {
            "text/html": [
              "<div>\n",
              "<style scoped>\n",
              "    .dataframe tbody tr th:only-of-type {\n",
              "        vertical-align: middle;\n",
              "    }\n",
              "\n",
              "    .dataframe tbody tr th {\n",
              "        vertical-align: top;\n",
              "    }\n",
              "\n",
              "    .dataframe thead th {\n",
              "        text-align: right;\n",
              "    }\n",
              "</style>\n",
              "<table border=\"1\" class=\"dataframe\">\n",
              "  <thead>\n",
              "    <tr style=\"text-align: right;\">\n",
              "      <th></th>\n",
              "      <th>Timestamp</th>\n",
              "      <th>Email Address</th>\n",
              "      <th>Name of student</th>\n",
              "      <th>Roll Number (e.g. A101, B202)</th>\n",
              "      <th>Division</th>\n",
              "      <th>Age</th>\n",
              "      <th>Gender</th>\n",
              "      <th>Study time in hrs</th>\n",
              "      <th>FE pointer(e.g. 7.9)</th>\n",
              "      <th>SE pointer(e.g. 7.9)</th>\n",
              "      <th>number of subject failed in</th>\n",
              "      <th>current backlogs</th>\n",
              "      <th>Additional courses opted</th>\n",
              "      <th>number of paper published</th>\n",
              "      <th>intership opted</th>\n",
              "      <th>10th marks in percentage</th>\n",
              "      <th>12th marks in percentage</th>\n",
              "      <th>10th and 12th university/board</th>\n",
              "    </tr>\n",
              "  </thead>\n",
              "  <tbody>\n",
              "    <tr>\n",
              "      <th>0</th>\n",
              "      <td>1/18/2022 14:34:30</td>\n",
              "      <td>nikita.khairnar19@pccoepune.org</td>\n",
              "      <td>Nikita Vijay Khairnar</td>\n",
              "      <td>213</td>\n",
              "      <td>B</td>\n",
              "      <td>20</td>\n",
              "      <td>F</td>\n",
              "      <td>3</td>\n",
              "      <td>9.20</td>\n",
              "      <td>9.95</td>\n",
              "      <td>0</td>\n",
              "      <td>0</td>\n",
              "      <td>NaN</td>\n",
              "      <td>NaN</td>\n",
              "      <td>YES</td>\n",
              "      <td>93.6</td>\n",
              "      <td>82.31</td>\n",
              "      <td>STATE</td>\n",
              "    </tr>\n",
              "    <tr>\n",
              "      <th>1</th>\n",
              "      <td>1/18/2022 14:34:31</td>\n",
              "      <td>krishnankit.dixit19@pccoepune.org</td>\n",
              "      <td>Krishnankit Dixit</td>\n",
              "      <td>143</td>\n",
              "      <td>A</td>\n",
              "      <td>21</td>\n",
              "      <td>M</td>\n",
              "      <td>5</td>\n",
              "      <td>9.36</td>\n",
              "      <td>9.41</td>\n",
              "      <td>0</td>\n",
              "      <td>0</td>\n",
              "      <td>Web development, Python, Data structures and a...</td>\n",
              "      <td>0</td>\n",
              "      <td>YES</td>\n",
              "      <td>89</td>\n",
              "      <td>83</td>\n",
              "      <td>STATE</td>\n",
              "    </tr>\n",
              "    <tr>\n",
              "      <th>2</th>\n",
              "      <td>1/18/2022 14:34:38</td>\n",
              "      <td>karthi.dhanasekaran19@pccoepune.org</td>\n",
              "      <td>Karthi Dhanasekaran</td>\n",
              "      <td>275</td>\n",
              "      <td>B</td>\n",
              "      <td>21</td>\n",
              "      <td>M</td>\n",
              "      <td>2</td>\n",
              "      <td>8.45</td>\n",
              "      <td>9.45</td>\n",
              "      <td>0</td>\n",
              "      <td>0</td>\n",
              "      <td>AI/ML</td>\n",
              "      <td>1</td>\n",
              "      <td>YES</td>\n",
              "      <td>82.8</td>\n",
              "      <td>84.6</td>\n",
              "      <td>CBSE</td>\n",
              "    </tr>\n",
              "    <tr>\n",
              "      <th>3</th>\n",
              "      <td>1/18/2022 14:34:44</td>\n",
              "      <td>shreyash.patil19@pccoepune.org</td>\n",
              "      <td>Shreyash patil</td>\n",
              "      <td>264</td>\n",
              "      <td>B</td>\n",
              "      <td>21</td>\n",
              "      <td>M</td>\n",
              "      <td>0.7</td>\n",
              "      <td>8.50</td>\n",
              "      <td>9.20</td>\n",
              "      <td>0</td>\n",
              "      <td>0</td>\n",
              "      <td>Python, c, c++</td>\n",
              "      <td>1</td>\n",
              "      <td>NO</td>\n",
              "      <td>89</td>\n",
              "      <td>79</td>\n",
              "      <td>STATE</td>\n",
              "    </tr>\n",
              "    <tr>\n",
              "      <th>4</th>\n",
              "      <td>1/18/2022 14:34:54</td>\n",
              "      <td>hitesh.kotecha19@pccoepune.org</td>\n",
              "      <td>Hitesh Kotecha</td>\n",
              "      <td>220</td>\n",
              "      <td>B</td>\n",
              "      <td>20</td>\n",
              "      <td>M</td>\n",
              "      <td>4</td>\n",
              "      <td>8.40</td>\n",
              "      <td>8.70</td>\n",
              "      <td>0</td>\n",
              "      <td>0</td>\n",
              "      <td>0</td>\n",
              "      <td>0</td>\n",
              "      <td>YES</td>\n",
              "      <td>88</td>\n",
              "      <td>74</td>\n",
              "      <td>STATE</td>\n",
              "    </tr>\n",
              "  </tbody>\n",
              "</table>\n",
              "</div>"
            ],
            "text/plain": [
              "            Timestamp                        Email Address  \\\n",
              "0  1/18/2022 14:34:30      nikita.khairnar19@pccoepune.org   \n",
              "1  1/18/2022 14:34:31    krishnankit.dixit19@pccoepune.org   \n",
              "2  1/18/2022 14:34:38  karthi.dhanasekaran19@pccoepune.org   \n",
              "3  1/18/2022 14:34:44       shreyash.patil19@pccoepune.org   \n",
              "4  1/18/2022 14:34:54       hitesh.kotecha19@pccoepune.org   \n",
              "\n",
              "         Name of student Roll Number (e.g. A101, B202) Division  Age Gender   \\\n",
              "0  Nikita Vijay Khairnar                           213        B   20       F   \n",
              "1      Krishnankit Dixit                           143        A   21       M   \n",
              "2    Karthi Dhanasekaran                           275        B   21       M   \n",
              "3         Shreyash patil                           264        B   21       M   \n",
              "4         Hitesh Kotecha                           220        B   20       M   \n",
              "\n",
              "  Study time in hrs  FE pointer(e.g. 7.9)  SE pointer(e.g. 7.9)  \\\n",
              "0                 3                  9.20                  9.95   \n",
              "1                 5                  9.36                  9.41   \n",
              "2                 2                  8.45                  9.45   \n",
              "3               0.7                  8.50                  9.20   \n",
              "4                 4                  8.40                  8.70   \n",
              "\n",
              "  number of subject failed in current backlogs  \\\n",
              "0                           0                0   \n",
              "1                           0                0   \n",
              "2                           0                0   \n",
              "3                           0                0   \n",
              "4                           0                0   \n",
              "\n",
              "                            Additional courses opted  \\\n",
              "0                                                NaN   \n",
              "1  Web development, Python, Data structures and a...   \n",
              "2                                              AI/ML   \n",
              "3                                     Python, c, c++   \n",
              "4                                                  0   \n",
              "\n",
              "  number of paper published  intership opted 10th marks in percentage  \\\n",
              "0                       NaN              YES                     93.6   \n",
              "1                         0              YES                       89   \n",
              "2                         1              YES                     82.8   \n",
              "3                         1               NO                       89   \n",
              "4                         0              YES                       88   \n",
              "\n",
              "  12th marks in percentage 10th and 12th university/board  \n",
              "0                    82.31                          STATE  \n",
              "1                       83                          STATE  \n",
              "2                     84.6                           CBSE  \n",
              "3                       79                          STATE  \n",
              "4                       74                          STATE  "
            ]
          },
          "execution_count": 8,
          "metadata": {},
          "output_type": "execute_result"
        }
      ],
      "source": [
        "for i in df['Roll Number (e.g. A101, B202)'].iteritems():\n",
        "#     df.at[i,'ifor'] = ifor\n",
        "    if(df['Roll Number (e.g. A101, B202)'][i[0]][0] == 'A' or df['Roll Number (e.g. A101, B202)'][i[0]][0] == 'B'):\n",
        "        df['Roll Number (e.g. A101, B202)'][i[0]] = df['Roll Number (e.g. A101, B202)'][i[0]][-3:]\n",
        "df.head()"
      ]
    },
    {
      "cell_type": "code",
      "execution_count": null,
      "metadata": {
        "id": "cpicI-4t5JtK",
        "outputId": "f1d44088-d75d-4776-8e35-20810f5782fc"
      },
      "outputs": [
        {
          "data": {
            "text/plain": [
              "0"
            ]
          },
          "execution_count": 9,
          "metadata": {},
          "output_type": "execute_result"
        }
      ],
      "source": [
        "df['Roll Number (e.g. A101, B202)'].isnull().sum()"
      ]
    },
    {
      "cell_type": "code",
      "execution_count": null,
      "metadata": {
        "id": "tTrrD3TZ5JtL"
      },
      "outputs": [],
      "source": [
        ""
      ]
    },
    {
      "cell_type": "markdown",
      "metadata": {
        "id": "8OAeIueL5JtM"
      },
      "source": [
        "# DIVISION COLUMN PREPROCESSING"
      ]
    },
    {
      "cell_type": "code",
      "execution_count": null,
      "metadata": {
        "id": "8yEo7XGV5JtN",
        "outputId": "a3738dca-a3d4-4fca-9fea-b002399d253f"
      },
      "outputs": [
        {
          "data": {
            "text/plain": [
              "array(['B', 'A'], dtype=object)"
            ]
          },
          "execution_count": 10,
          "metadata": {},
          "output_type": "execute_result"
        }
      ],
      "source": [
        "df['Division'].unique()"
      ]
    },
    {
      "cell_type": "code",
      "execution_count": null,
      "metadata": {
        "id": "gPwxC1pR5JtO"
      },
      "outputs": [],
      "source": [
        "df['Division'] = df['Division'].replace({'A':0, 'B':1})"
      ]
    },
    {
      "cell_type": "code",
      "execution_count": null,
      "metadata": {
        "id": "azr4nb3D5JtR",
        "outputId": "5a7c91e2-a90a-4690-d911-cf91c698e6cf"
      },
      "outputs": [
        {
          "data": {
            "text/plain": [
              "array([1, 0], dtype=int64)"
            ]
          },
          "execution_count": 12,
          "metadata": {},
          "output_type": "execute_result"
        }
      ],
      "source": [
        "df['Division'].unique()"
      ]
    },
    {
      "cell_type": "code",
      "execution_count": null,
      "metadata": {
        "id": "sQDiaZw35JtS"
      },
      "outputs": [],
      "source": [
        ""
      ]
    },
    {
      "cell_type": "markdown",
      "metadata": {
        "id": "2ufvPKi85JtS"
      },
      "source": [
        "# AGE COLUMN PREPROCESSING"
      ]
    },
    {
      "cell_type": "code",
      "execution_count": null,
      "metadata": {
        "id": "9SUslD4f5JtT",
        "outputId": "4ebffe83-7dd4-49a5-970f-22fe8da8a5a5"
      },
      "outputs": [
        {
          "data": {
            "text/plain": [
              "array([20, 21, 19, 22], dtype=int64)"
            ]
          },
          "execution_count": 13,
          "metadata": {},
          "output_type": "execute_result"
        }
      ],
      "source": [
        "df['Age'].unique()"
      ]
    },
    {
      "cell_type": "code",
      "execution_count": null,
      "metadata": {
        "id": "zxbzj5N65JtV",
        "outputId": "d73dd866-38c8-4a40-8fbd-1d59a9e23631"
      },
      "outputs": [
        {
          "data": {
            "text/plain": [
              "0"
            ]
          },
          "execution_count": 14,
          "metadata": {},
          "output_type": "execute_result"
        }
      ],
      "source": [
        "df['Age'].isnull().sum()"
      ]
    },
    {
      "cell_type": "code",
      "execution_count": null,
      "metadata": {
        "id": "9norVoe95JtV"
      },
      "outputs": [],
      "source": [
        "#normalization"
      ]
    },
    {
      "cell_type": "code",
      "execution_count": null,
      "metadata": {
        "id": "dKIZm9PS5JtW"
      },
      "outputs": [],
      "source": [
        ""
      ]
    },
    {
      "cell_type": "code",
      "execution_count": null,
      "metadata": {
        "id": "BJgJpaye5JtW"
      },
      "outputs": [],
      "source": [
        ""
      ]
    },
    {
      "cell_type": "markdown",
      "metadata": {
        "id": "ExEujAa65JtW"
      },
      "source": [
        "# Gender Column Preprocessing"
      ]
    },
    {
      "cell_type": "code",
      "execution_count": null,
      "metadata": {
        "id": "_3z5clbv5JtX",
        "outputId": "84a52c9f-1164-4a09-98f4-1cb44d6b8c8d"
      },
      "outputs": [
        {
          "data": {
            "text/plain": [
              "array(['F', 'M'], dtype=object)"
            ]
          },
          "execution_count": 16,
          "metadata": {},
          "output_type": "execute_result"
        }
      ],
      "source": [
        "df['Gender '].unique()"
      ]
    },
    {
      "cell_type": "code",
      "execution_count": null,
      "metadata": {
        "id": "-dxvwVLa5JtY"
      },
      "outputs": [],
      "source": [
        "df['Gender '] = df['Gender '].replace({'M':0, 'F':1})"
      ]
    },
    {
      "cell_type": "code",
      "execution_count": null,
      "metadata": {
        "id": "V3FJvxMq5JtY",
        "outputId": "1398439d-0422-41e1-c7e4-e383be9ab7d2"
      },
      "outputs": [
        {
          "data": {
            "text/plain": [
              "array([1, 0], dtype=int64)"
            ]
          },
          "execution_count": 18,
          "metadata": {},
          "output_type": "execute_result"
        }
      ],
      "source": [
        "df['Gender '].unique()"
      ]
    },
    {
      "cell_type": "code",
      "execution_count": null,
      "metadata": {
        "id": "Jgn4q8YB5JtZ",
        "outputId": "d8559880-0fcd-4533-845b-d2f73ee09275"
      },
      "outputs": [
        {
          "data": {
            "text/html": [
              "<div>\n",
              "<style scoped>\n",
              "    .dataframe tbody tr th:only-of-type {\n",
              "        vertical-align: middle;\n",
              "    }\n",
              "\n",
              "    .dataframe tbody tr th {\n",
              "        vertical-align: top;\n",
              "    }\n",
              "\n",
              "    .dataframe thead th {\n",
              "        text-align: right;\n",
              "    }\n",
              "</style>\n",
              "<table border=\"1\" class=\"dataframe\">\n",
              "  <thead>\n",
              "    <tr style=\"text-align: right;\">\n",
              "      <th></th>\n",
              "      <th>Timestamp</th>\n",
              "      <th>Email Address</th>\n",
              "      <th>Name of student</th>\n",
              "      <th>Roll Number (e.g. A101, B202)</th>\n",
              "      <th>Division</th>\n",
              "      <th>Age</th>\n",
              "      <th>Gender</th>\n",
              "      <th>Study time in hrs</th>\n",
              "      <th>FE pointer(e.g. 7.9)</th>\n",
              "      <th>SE pointer(e.g. 7.9)</th>\n",
              "      <th>number of subject failed in</th>\n",
              "      <th>current backlogs</th>\n",
              "      <th>Additional courses opted</th>\n",
              "      <th>number of paper published</th>\n",
              "      <th>intership opted</th>\n",
              "      <th>10th marks in percentage</th>\n",
              "      <th>12th marks in percentage</th>\n",
              "      <th>10th and 12th university/board</th>\n",
              "    </tr>\n",
              "  </thead>\n",
              "  <tbody>\n",
              "    <tr>\n",
              "      <th>0</th>\n",
              "      <td>1/18/2022 14:34:30</td>\n",
              "      <td>nikita.khairnar19@pccoepune.org</td>\n",
              "      <td>Nikita Vijay Khairnar</td>\n",
              "      <td>213</td>\n",
              "      <td>1</td>\n",
              "      <td>20</td>\n",
              "      <td>1</td>\n",
              "      <td>3</td>\n",
              "      <td>9.20</td>\n",
              "      <td>9.95</td>\n",
              "      <td>0</td>\n",
              "      <td>0</td>\n",
              "      <td>NaN</td>\n",
              "      <td>NaN</td>\n",
              "      <td>YES</td>\n",
              "      <td>93.6</td>\n",
              "      <td>82.31</td>\n",
              "      <td>STATE</td>\n",
              "    </tr>\n",
              "    <tr>\n",
              "      <th>1</th>\n",
              "      <td>1/18/2022 14:34:31</td>\n",
              "      <td>krishnankit.dixit19@pccoepune.org</td>\n",
              "      <td>Krishnankit Dixit</td>\n",
              "      <td>143</td>\n",
              "      <td>0</td>\n",
              "      <td>21</td>\n",
              "      <td>0</td>\n",
              "      <td>5</td>\n",
              "      <td>9.36</td>\n",
              "      <td>9.41</td>\n",
              "      <td>0</td>\n",
              "      <td>0</td>\n",
              "      <td>Web development, Python, Data structures and a...</td>\n",
              "      <td>0</td>\n",
              "      <td>YES</td>\n",
              "      <td>89</td>\n",
              "      <td>83</td>\n",
              "      <td>STATE</td>\n",
              "    </tr>\n",
              "    <tr>\n",
              "      <th>2</th>\n",
              "      <td>1/18/2022 14:34:38</td>\n",
              "      <td>karthi.dhanasekaran19@pccoepune.org</td>\n",
              "      <td>Karthi Dhanasekaran</td>\n",
              "      <td>275</td>\n",
              "      <td>1</td>\n",
              "      <td>21</td>\n",
              "      <td>0</td>\n",
              "      <td>2</td>\n",
              "      <td>8.45</td>\n",
              "      <td>9.45</td>\n",
              "      <td>0</td>\n",
              "      <td>0</td>\n",
              "      <td>AI/ML</td>\n",
              "      <td>1</td>\n",
              "      <td>YES</td>\n",
              "      <td>82.8</td>\n",
              "      <td>84.6</td>\n",
              "      <td>CBSE</td>\n",
              "    </tr>\n",
              "    <tr>\n",
              "      <th>3</th>\n",
              "      <td>1/18/2022 14:34:44</td>\n",
              "      <td>shreyash.patil19@pccoepune.org</td>\n",
              "      <td>Shreyash patil</td>\n",
              "      <td>264</td>\n",
              "      <td>1</td>\n",
              "      <td>21</td>\n",
              "      <td>0</td>\n",
              "      <td>0.7</td>\n",
              "      <td>8.50</td>\n",
              "      <td>9.20</td>\n",
              "      <td>0</td>\n",
              "      <td>0</td>\n",
              "      <td>Python, c, c++</td>\n",
              "      <td>1</td>\n",
              "      <td>NO</td>\n",
              "      <td>89</td>\n",
              "      <td>79</td>\n",
              "      <td>STATE</td>\n",
              "    </tr>\n",
              "    <tr>\n",
              "      <th>4</th>\n",
              "      <td>1/18/2022 14:34:54</td>\n",
              "      <td>hitesh.kotecha19@pccoepune.org</td>\n",
              "      <td>Hitesh Kotecha</td>\n",
              "      <td>220</td>\n",
              "      <td>1</td>\n",
              "      <td>20</td>\n",
              "      <td>0</td>\n",
              "      <td>4</td>\n",
              "      <td>8.40</td>\n",
              "      <td>8.70</td>\n",
              "      <td>0</td>\n",
              "      <td>0</td>\n",
              "      <td>0</td>\n",
              "      <td>0</td>\n",
              "      <td>YES</td>\n",
              "      <td>88</td>\n",
              "      <td>74</td>\n",
              "      <td>STATE</td>\n",
              "    </tr>\n",
              "  </tbody>\n",
              "</table>\n",
              "</div>"
            ],
            "text/plain": [
              "            Timestamp                        Email Address  \\\n",
              "0  1/18/2022 14:34:30      nikita.khairnar19@pccoepune.org   \n",
              "1  1/18/2022 14:34:31    krishnankit.dixit19@pccoepune.org   \n",
              "2  1/18/2022 14:34:38  karthi.dhanasekaran19@pccoepune.org   \n",
              "3  1/18/2022 14:34:44       shreyash.patil19@pccoepune.org   \n",
              "4  1/18/2022 14:34:54       hitesh.kotecha19@pccoepune.org   \n",
              "\n",
              "         Name of student Roll Number (e.g. A101, B202)  Division  Age  \\\n",
              "0  Nikita Vijay Khairnar                           213         1   20   \n",
              "1      Krishnankit Dixit                           143         0   21   \n",
              "2    Karthi Dhanasekaran                           275         1   21   \n",
              "3         Shreyash patil                           264         1   21   \n",
              "4         Hitesh Kotecha                           220         1   20   \n",
              "\n",
              "   Gender  Study time in hrs  FE pointer(e.g. 7.9)  SE pointer(e.g. 7.9)  \\\n",
              "0        1                 3                  9.20                  9.95   \n",
              "1        0                 5                  9.36                  9.41   \n",
              "2        0                 2                  8.45                  9.45   \n",
              "3        0               0.7                  8.50                  9.20   \n",
              "4        0                 4                  8.40                  8.70   \n",
              "\n",
              "  number of subject failed in current backlogs  \\\n",
              "0                           0                0   \n",
              "1                           0                0   \n",
              "2                           0                0   \n",
              "3                           0                0   \n",
              "4                           0                0   \n",
              "\n",
              "                            Additional courses opted  \\\n",
              "0                                                NaN   \n",
              "1  Web development, Python, Data structures and a...   \n",
              "2                                              AI/ML   \n",
              "3                                     Python, c, c++   \n",
              "4                                                  0   \n",
              "\n",
              "  number of paper published  intership opted 10th marks in percentage  \\\n",
              "0                       NaN              YES                     93.6   \n",
              "1                         0              YES                       89   \n",
              "2                         1              YES                     82.8   \n",
              "3                         1               NO                       89   \n",
              "4                         0              YES                       88   \n",
              "\n",
              "  12th marks in percentage 10th and 12th university/board  \n",
              "0                    82.31                          STATE  \n",
              "1                       83                          STATE  \n",
              "2                     84.6                           CBSE  \n",
              "3                       79                          STATE  \n",
              "4                       74                          STATE  "
            ]
          },
          "execution_count": 19,
          "metadata": {},
          "output_type": "execute_result"
        }
      ],
      "source": [
        "df.head()"
      ]
    },
    {
      "cell_type": "code",
      "execution_count": null,
      "metadata": {
        "id": "IITNpiem5JtZ"
      },
      "outputs": [],
      "source": [
        ""
      ]
    },
    {
      "cell_type": "code",
      "execution_count": null,
      "metadata": {
        "id": "aFfUqEYj5JtZ"
      },
      "outputs": [],
      "source": [
        ""
      ]
    },
    {
      "cell_type": "markdown",
      "metadata": {
        "id": "Xq49BJ6c5Jta"
      },
      "source": [
        "# FE Pointer Column Preprocessing"
      ]
    },
    {
      "cell_type": "code",
      "execution_count": null,
      "metadata": {
        "id": "waBZQRcK5Jta",
        "outputId": "05c8f745-52d2-4c3f-a780-9d4259b76d4e"
      },
      "outputs": [
        {
          "data": {
            "text/plain": [
              "numpy.float64"
            ]
          },
          "execution_count": 20,
          "metadata": {},
          "output_type": "execute_result"
        }
      ],
      "source": [
        "type(df['FE pointer(e.g. 7.9)'][0])"
      ]
    },
    {
      "cell_type": "code",
      "execution_count": null,
      "metadata": {
        "id": "KC5tQT-G5Jtb",
        "outputId": "6ee7d15d-4792-479e-d9bf-c018a4e60a49"
      },
      "outputs": [
        {
          "data": {
            "text/plain": [
              "10"
            ]
          },
          "execution_count": 21,
          "metadata": {},
          "output_type": "execute_result"
        }
      ],
      "source": [
        "df['FE pointer(e.g. 7.9)'].isnull().sum()"
      ]
    },
    {
      "cell_type": "code",
      "execution_count": null,
      "metadata": {
        "id": "UH7IAkrk5Jtb"
      },
      "outputs": [],
      "source": [
        "avg_fe_pointer = df['FE pointer(e.g. 7.9)'].sum()"
      ]
    },
    {
      "cell_type": "code",
      "execution_count": null,
      "metadata": {
        "id": "vnYihSca5Jtc"
      },
      "outputs": [],
      "source": [
        "avg_fe_pointer/=122"
      ]
    },
    {
      "cell_type": "code",
      "execution_count": null,
      "metadata": {
        "id": "lFTc7Kpg5Jtc",
        "outputId": "6a0dfaf3-8b74-4b5d-dc75-aeb83ac67ec8"
      },
      "outputs": [
        {
          "data": {
            "text/plain": [
              "7.460245901639344"
            ]
          },
          "execution_count": 24,
          "metadata": {},
          "output_type": "execute_result"
        }
      ],
      "source": [
        "avg_fe_pointer"
      ]
    },
    {
      "cell_type": "code",
      "execution_count": null,
      "metadata": {
        "id": "eI1o0N_A5Jtd",
        "outputId": "d4e12205-c3a5-468b-fde8-0018dacaf598"
      },
      "outputs": [
        {
          "data": {
            "text/plain": [
              "pandas.core.series.Series"
            ]
          },
          "execution_count": 25,
          "metadata": {},
          "output_type": "execute_result"
        }
      ],
      "source": [
        "type(df['FE pointer(e.g. 7.9)'].isnull())"
      ]
    },
    {
      "cell_type": "code",
      "execution_count": null,
      "metadata": {
        "id": "LVLboVvg5Jte",
        "outputId": "0cde6f92-d45e-4770-eca0-dffc7cd4e5e1"
      },
      "outputs": [
        {
          "name": "stderr",
          "output_type": "stream",
          "text": [
            "<ipython-input-26-08d102aeaa9d>:3: SettingWithCopyWarning: \n",
            "A value is trying to be set on a copy of a slice from a DataFrame\n",
            "\n",
            "See the caveats in the documentation: https://pandas.pydata.org/pandas-docs/stable/user_guide/indexing.html#returning-a-view-versus-a-copy\n",
            "  df['FE pointer(e.g. 7.9)'][i[0]] = avg_fe_pointer\n"
          ]
        }
      ],
      "source": [
        "for i in df['FE pointer(e.g. 7.9)'].isnull().iteritems():\n",
        "    if(i[1]):\n",
        "        df['FE pointer(e.g. 7.9)'][i[0]] = avg_fe_pointer"
      ]
    },
    {
      "cell_type": "code",
      "execution_count": null,
      "metadata": {
        "id": "Tm1kLmPA5Jte",
        "outputId": "72b36ed7-544c-49f4-e55e-b17650740501"
      },
      "outputs": [
        {
          "data": {
            "text/plain": [
              "0"
            ]
          },
          "execution_count": 27,
          "metadata": {},
          "output_type": "execute_result"
        }
      ],
      "source": [
        "df['FE pointer(e.g. 7.9)'].isnull().sum()"
      ]
    },
    {
      "cell_type": "code",
      "execution_count": null,
      "metadata": {
        "id": "lNgjDWUJ5Jtf"
      },
      "outputs": [],
      "source": [
        ""
      ]
    },
    {
      "cell_type": "code",
      "execution_count": null,
      "metadata": {
        "id": "Q9I5qhSI5Jtj"
      },
      "outputs": [],
      "source": [
        ""
      ]
    },
    {
      "cell_type": "markdown",
      "metadata": {
        "id": "qngio8V25Jtk"
      },
      "source": [
        "# number of subject failed in column preprocessing"
      ]
    },
    {
      "cell_type": "code",
      "execution_count": null,
      "metadata": {
        "id": "QkInfCUa5Jtl",
        "outputId": "677304b5-4ff1-4afa-8160-a90da55eb484"
      },
      "outputs": [
        {
          "data": {
            "text/plain": [
              "3"
            ]
          },
          "execution_count": 28,
          "metadata": {},
          "output_type": "execute_result"
        }
      ],
      "source": [
        "df['number of subject failed in'].isnull().sum()"
      ]
    },
    {
      "cell_type": "code",
      "execution_count": null,
      "metadata": {
        "id": "E_XXcatE5Jtl",
        "outputId": "150fd4c2-6fb7-49d1-859d-491eba5d4105"
      },
      "outputs": [
        {
          "data": {
            "text/plain": [
              "str"
            ]
          },
          "execution_count": 29,
          "metadata": {},
          "output_type": "execute_result"
        }
      ],
      "source": [
        "type(df['number of subject failed in'][0])"
      ]
    },
    {
      "cell_type": "code",
      "execution_count": null,
      "metadata": {
        "id": "DhkvtI2Y5Jtm",
        "outputId": "cadeb748-70bb-4548-aebe-67d41180171e"
      },
      "outputs": [
        {
          "data": {
            "text/plain": [
              "0       109\n",
              "1         3\n",
              "None      2\n",
              "-         1\n",
              "3         1\n",
              "7         1\n",
              "Na        1\n",
              "5         1\n",
              "Name: number of subject failed in, dtype: int64"
            ]
          },
          "execution_count": 30,
          "metadata": {},
          "output_type": "execute_result"
        }
      ],
      "source": [
        "df['number of subject failed in'].value_counts()"
      ]
    },
    {
      "cell_type": "code",
      "execution_count": null,
      "metadata": {
        "id": "Gs0cTkBl5Jtm"
      },
      "outputs": [],
      "source": [
        "df['number of subject failed in'].replace({'None':np.nan,'-':np.nan,'Na':np.nan}, inplace=True)"
      ]
    },
    {
      "cell_type": "code",
      "execution_count": null,
      "metadata": {
        "id": "-HcSUzFp5Jtm"
      },
      "outputs": [],
      "source": [
        "df['number of subject failed in'].replace({np.nan:'0'}, inplace=True)"
      ]
    },
    {
      "cell_type": "code",
      "execution_count": null,
      "metadata": {
        "id": "4vG240Mm5Jtn",
        "outputId": "76046cad-59d2-4329-926a-ef1b3fe8b803"
      },
      "outputs": [
        {
          "data": {
            "text/plain": [
              "0    116\n",
              "1      3\n",
              "3      1\n",
              "7      1\n",
              "5      1\n",
              "Name: number of subject failed in, dtype: int64"
            ]
          },
          "execution_count": 33,
          "metadata": {},
          "output_type": "execute_result"
        }
      ],
      "source": [
        "df['number of subject failed in'].value_counts()"
      ]
    },
    {
      "cell_type": "code",
      "execution_count": null,
      "metadata": {
        "id": "RQa1vV8D5Jtn"
      },
      "outputs": [],
      "source": [
        ""
      ]
    },
    {
      "cell_type": "code",
      "execution_count": null,
      "metadata": {
        "id": "yOT2i3V35Jtn"
      },
      "outputs": [],
      "source": [
        ""
      ]
    },
    {
      "cell_type": "markdown",
      "metadata": {
        "id": "aYXDdW2G5Jto"
      },
      "source": [
        "# Current Backlogs Column Preprocessing"
      ]
    },
    {
      "cell_type": "code",
      "execution_count": null,
      "metadata": {
        "id": "cNNMykiF5Jto",
        "outputId": "852c2cd8-1429-451c-b059-255ca381a02e"
      },
      "outputs": [
        {
          "data": {
            "text/plain": [
              "0       113\n",
              "None      3\n",
              "-         1\n",
              "Na        1\n",
              "Name: current backlogs, dtype: int64"
            ]
          },
          "execution_count": 34,
          "metadata": {},
          "output_type": "execute_result"
        }
      ],
      "source": [
        "df['current backlogs'].value_counts()"
      ]
    },
    {
      "cell_type": "code",
      "execution_count": null,
      "metadata": {
        "id": "FSSWhExl5Jtp"
      },
      "outputs": [],
      "source": [
        "df['current backlogs'].replace({'None':'0','-':'0','Na':'0'}, inplace=True)"
      ]
    },
    {
      "cell_type": "code",
      "execution_count": null,
      "metadata": {
        "id": "2VrkchK_5Jtp",
        "outputId": "3dc40562-d70d-44ce-c79a-a563b8875879"
      },
      "outputs": [
        {
          "data": {
            "text/plain": [
              "0    118\n",
              "Name: current backlogs, dtype: int64"
            ]
          },
          "execution_count": 36,
          "metadata": {},
          "output_type": "execute_result"
        }
      ],
      "source": [
        "df['current backlogs'].value_counts()"
      ]
    },
    {
      "cell_type": "code",
      "execution_count": null,
      "metadata": {
        "id": "x7eaNtNS5Jtq",
        "outputId": "6a935284-4142-4399-bcc5-5b73d1e6fe33"
      },
      "outputs": [
        {
          "data": {
            "text/plain": [
              "4"
            ]
          },
          "execution_count": 37,
          "metadata": {},
          "output_type": "execute_result"
        }
      ],
      "source": [
        "df['current backlogs'].isnull().sum()"
      ]
    },
    {
      "cell_type": "code",
      "execution_count": null,
      "metadata": {
        "id": "e08_vqfD5Jtq"
      },
      "outputs": [],
      "source": [
        "df['current backlogs'].replace({np.nan:'0'}, inplace=True)"
      ]
    },
    {
      "cell_type": "code",
      "execution_count": null,
      "metadata": {
        "id": "h_YXL-VE5Jtr",
        "outputId": "2f5051f4-5f2a-49af-8226-06bea2710e1f"
      },
      "outputs": [
        {
          "data": {
            "text/plain": [
              "0"
            ]
          },
          "execution_count": 39,
          "metadata": {},
          "output_type": "execute_result"
        }
      ],
      "source": [
        "df['current backlogs'].isnull().sum()"
      ]
    },
    {
      "cell_type": "code",
      "execution_count": null,
      "metadata": {
        "id": "lZgBwhdy5Jtr"
      },
      "outputs": [],
      "source": [
        ""
      ]
    },
    {
      "cell_type": "code",
      "execution_count": null,
      "metadata": {
        "id": "su8HGMI85Jts",
        "outputId": "95dcb5df-abe5-4cae-f1f1-c086f0e54224"
      },
      "outputs": [
        {
          "data": {
            "text/plain": [
              "Timestamp                          0\n",
              "Email Address                      0\n",
              "Name of student                    0\n",
              "Roll Number (e.g. A101, B202)      0\n",
              "Division                           0\n",
              "Age                                0\n",
              "Gender                             0\n",
              "Study time in hrs                  6\n",
              "FE pointer(e.g. 7.9)               0\n",
              "SE pointer(e.g. 7.9)               0\n",
              "number of subject failed in        0\n",
              "current backlogs                   0\n",
              "Additional courses opted          11\n",
              "number of paper published          9\n",
              " intership opted                   1\n",
              "10th marks in percentage           0\n",
              "12th marks in percentage           2\n",
              "10th and 12th university/board     0\n",
              "dtype: int64"
            ]
          },
          "execution_count": 40,
          "metadata": {},
          "output_type": "execute_result"
        }
      ],
      "source": [
        "df.isnull().sum()"
      ]
    },
    {
      "cell_type": "code",
      "execution_count": null,
      "metadata": {
        "id": "qx6Fm_Gl5Jts"
      },
      "outputs": [],
      "source": [
        ""
      ]
    },
    {
      "cell_type": "markdown",
      "metadata": {
        "id": "Y__XCjbI5Jts"
      },
      "source": [
        "# number of paper published column preprocessing"
      ]
    },
    {
      "cell_type": "code",
      "execution_count": null,
      "metadata": {
        "id": "fXA41tMl5Jts",
        "outputId": "e2ecd164-0e53-4ace-cb07-f51da78482ee"
      },
      "outputs": [
        {
          "data": {
            "text/plain": [
              "1          56\n",
              "0          46\n",
              "2           7\n",
              "no          1\n",
              "One         1\n",
              "-           1\n",
              "not yet     1\n",
              "Name: number of paper published, dtype: int64"
            ]
          },
          "execution_count": 41,
          "metadata": {},
          "output_type": "execute_result"
        }
      ],
      "source": [
        "df['number of paper published'].value_counts()"
      ]
    },
    {
      "cell_type": "code",
      "execution_count": null,
      "metadata": {
        "id": "mQuuiv-B5Jtt"
      },
      "outputs": [],
      "source": [
        "df['number of paper published'].replace({'One':'1','-':'0','no':'0', 'not yet':'0'}, inplace=True)"
      ]
    },
    {
      "cell_type": "code",
      "execution_count": null,
      "metadata": {
        "id": "xcvZTbDV5Jtu",
        "outputId": "c2078bd0-39e4-431c-f014-cb514b2c6504"
      },
      "outputs": [
        {
          "data": {
            "text/plain": [
              "1    57\n",
              "0    49\n",
              "2     7\n",
              "Name: number of paper published, dtype: int64"
            ]
          },
          "execution_count": 43,
          "metadata": {},
          "output_type": "execute_result"
        }
      ],
      "source": [
        "df['number of paper published'].value_counts()"
      ]
    },
    {
      "cell_type": "code",
      "execution_count": null,
      "metadata": {
        "id": "4BCNtnwI5Jtu"
      },
      "outputs": [],
      "source": [
        "mean_no_of_papers_published = ((1*57) + (0*49) + (2*7))/(57+49+7)"
      ]
    },
    {
      "cell_type": "code",
      "execution_count": null,
      "metadata": {
        "id": "L0Vr4_Uc5Jtv",
        "outputId": "5459fe34-0974-4055-97ed-dce75f1a8da1"
      },
      "outputs": [
        {
          "data": {
            "text/plain": [
              "0.6283185840707964"
            ]
          },
          "execution_count": 45,
          "metadata": {},
          "output_type": "execute_result"
        }
      ],
      "source": [
        "mean_no_of_papers_published"
      ]
    },
    {
      "cell_type": "code",
      "execution_count": null,
      "metadata": {
        "id": "wKRzLDhM5Jtv",
        "outputId": "1eb98645-a860-4612-f41d-57963b4d8424"
      },
      "outputs": [
        {
          "name": "stderr",
          "output_type": "stream",
          "text": [
            "<ipython-input-46-14da22052cae>:3: SettingWithCopyWarning: \n",
            "A value is trying to be set on a copy of a slice from a DataFrame\n",
            "\n",
            "See the caveats in the documentation: https://pandas.pydata.org/pandas-docs/stable/user_guide/indexing.html#returning-a-view-versus-a-copy\n",
            "  df['number of paper published'][i[0]] = str(mean_no_of_papers_published)\n"
          ]
        }
      ],
      "source": [
        "for i in df['number of paper published'].isnull().iteritems():\n",
        "    if(i[1]):\n",
        "        df['number of paper published'][i[0]] = str(mean_no_of_papers_published)"
      ]
    },
    {
      "cell_type": "code",
      "execution_count": null,
      "metadata": {
        "id": "0o7aTX4w5Jtw",
        "outputId": "f17a9f35-9e4b-4ead-8d94-bfb2699a6c8f"
      },
      "outputs": [
        {
          "data": {
            "text/plain": [
              "0"
            ]
          },
          "execution_count": 47,
          "metadata": {},
          "output_type": "execute_result"
        }
      ],
      "source": [
        "df['number of paper published'].isnull().sum()"
      ]
    },
    {
      "cell_type": "code",
      "execution_count": null,
      "metadata": {
        "id": "B6u-OBNy5Jtx",
        "outputId": "f98f4f6d-b6be-4df4-9619-778c8b657e73"
      },
      "outputs": [
        {
          "data": {
            "text/html": [
              "<div>\n",
              "<style scoped>\n",
              "    .dataframe tbody tr th:only-of-type {\n",
              "        vertical-align: middle;\n",
              "    }\n",
              "\n",
              "    .dataframe tbody tr th {\n",
              "        vertical-align: top;\n",
              "    }\n",
              "\n",
              "    .dataframe thead th {\n",
              "        text-align: right;\n",
              "    }\n",
              "</style>\n",
              "<table border=\"1\" class=\"dataframe\">\n",
              "  <thead>\n",
              "    <tr style=\"text-align: right;\">\n",
              "      <th></th>\n",
              "      <th>Timestamp</th>\n",
              "      <th>Email Address</th>\n",
              "      <th>Name of student</th>\n",
              "      <th>Roll Number (e.g. A101, B202)</th>\n",
              "      <th>Division</th>\n",
              "      <th>Age</th>\n",
              "      <th>Gender</th>\n",
              "      <th>Study time in hrs</th>\n",
              "      <th>FE pointer(e.g. 7.9)</th>\n",
              "      <th>SE pointer(e.g. 7.9)</th>\n",
              "      <th>number of subject failed in</th>\n",
              "      <th>current backlogs</th>\n",
              "      <th>Additional courses opted</th>\n",
              "      <th>number of paper published</th>\n",
              "      <th>intership opted</th>\n",
              "      <th>10th marks in percentage</th>\n",
              "      <th>12th marks in percentage</th>\n",
              "      <th>10th and 12th university/board</th>\n",
              "    </tr>\n",
              "  </thead>\n",
              "  <tbody>\n",
              "    <tr>\n",
              "      <th>0</th>\n",
              "      <td>1/18/2022 14:34:30</td>\n",
              "      <td>nikita.khairnar19@pccoepune.org</td>\n",
              "      <td>Nikita Vijay Khairnar</td>\n",
              "      <td>213</td>\n",
              "      <td>1</td>\n",
              "      <td>20</td>\n",
              "      <td>1</td>\n",
              "      <td>3</td>\n",
              "      <td>9.20</td>\n",
              "      <td>9.95</td>\n",
              "      <td>0</td>\n",
              "      <td>0</td>\n",
              "      <td>NaN</td>\n",
              "      <td>0.6283185840707964</td>\n",
              "      <td>YES</td>\n",
              "      <td>93.6</td>\n",
              "      <td>82.31</td>\n",
              "      <td>STATE</td>\n",
              "    </tr>\n",
              "    <tr>\n",
              "      <th>1</th>\n",
              "      <td>1/18/2022 14:34:31</td>\n",
              "      <td>krishnankit.dixit19@pccoepune.org</td>\n",
              "      <td>Krishnankit Dixit</td>\n",
              "      <td>143</td>\n",
              "      <td>0</td>\n",
              "      <td>21</td>\n",
              "      <td>0</td>\n",
              "      <td>5</td>\n",
              "      <td>9.36</td>\n",
              "      <td>9.41</td>\n",
              "      <td>0</td>\n",
              "      <td>0</td>\n",
              "      <td>Web development, Python, Data structures and a...</td>\n",
              "      <td>0</td>\n",
              "      <td>YES</td>\n",
              "      <td>89</td>\n",
              "      <td>83</td>\n",
              "      <td>STATE</td>\n",
              "    </tr>\n",
              "    <tr>\n",
              "      <th>2</th>\n",
              "      <td>1/18/2022 14:34:38</td>\n",
              "      <td>karthi.dhanasekaran19@pccoepune.org</td>\n",
              "      <td>Karthi Dhanasekaran</td>\n",
              "      <td>275</td>\n",
              "      <td>1</td>\n",
              "      <td>21</td>\n",
              "      <td>0</td>\n",
              "      <td>2</td>\n",
              "      <td>8.45</td>\n",
              "      <td>9.45</td>\n",
              "      <td>0</td>\n",
              "      <td>0</td>\n",
              "      <td>AI/ML</td>\n",
              "      <td>1</td>\n",
              "      <td>YES</td>\n",
              "      <td>82.8</td>\n",
              "      <td>84.6</td>\n",
              "      <td>CBSE</td>\n",
              "    </tr>\n",
              "    <tr>\n",
              "      <th>3</th>\n",
              "      <td>1/18/2022 14:34:44</td>\n",
              "      <td>shreyash.patil19@pccoepune.org</td>\n",
              "      <td>Shreyash patil</td>\n",
              "      <td>264</td>\n",
              "      <td>1</td>\n",
              "      <td>21</td>\n",
              "      <td>0</td>\n",
              "      <td>0.7</td>\n",
              "      <td>8.50</td>\n",
              "      <td>9.20</td>\n",
              "      <td>0</td>\n",
              "      <td>0</td>\n",
              "      <td>Python, c, c++</td>\n",
              "      <td>1</td>\n",
              "      <td>NO</td>\n",
              "      <td>89</td>\n",
              "      <td>79</td>\n",
              "      <td>STATE</td>\n",
              "    </tr>\n",
              "    <tr>\n",
              "      <th>4</th>\n",
              "      <td>1/18/2022 14:34:54</td>\n",
              "      <td>hitesh.kotecha19@pccoepune.org</td>\n",
              "      <td>Hitesh Kotecha</td>\n",
              "      <td>220</td>\n",
              "      <td>1</td>\n",
              "      <td>20</td>\n",
              "      <td>0</td>\n",
              "      <td>4</td>\n",
              "      <td>8.40</td>\n",
              "      <td>8.70</td>\n",
              "      <td>0</td>\n",
              "      <td>0</td>\n",
              "      <td>0</td>\n",
              "      <td>0</td>\n",
              "      <td>YES</td>\n",
              "      <td>88</td>\n",
              "      <td>74</td>\n",
              "      <td>STATE</td>\n",
              "    </tr>\n",
              "  </tbody>\n",
              "</table>\n",
              "</div>"
            ],
            "text/plain": [
              "            Timestamp                        Email Address  \\\n",
              "0  1/18/2022 14:34:30      nikita.khairnar19@pccoepune.org   \n",
              "1  1/18/2022 14:34:31    krishnankit.dixit19@pccoepune.org   \n",
              "2  1/18/2022 14:34:38  karthi.dhanasekaran19@pccoepune.org   \n",
              "3  1/18/2022 14:34:44       shreyash.patil19@pccoepune.org   \n",
              "4  1/18/2022 14:34:54       hitesh.kotecha19@pccoepune.org   \n",
              "\n",
              "         Name of student Roll Number (e.g. A101, B202)  Division  Age  \\\n",
              "0  Nikita Vijay Khairnar                           213         1   20   \n",
              "1      Krishnankit Dixit                           143         0   21   \n",
              "2    Karthi Dhanasekaran                           275         1   21   \n",
              "3         Shreyash patil                           264         1   21   \n",
              "4         Hitesh Kotecha                           220         1   20   \n",
              "\n",
              "   Gender  Study time in hrs  FE pointer(e.g. 7.9)  SE pointer(e.g. 7.9)  \\\n",
              "0        1                 3                  9.20                  9.95   \n",
              "1        0                 5                  9.36                  9.41   \n",
              "2        0                 2                  8.45                  9.45   \n",
              "3        0               0.7                  8.50                  9.20   \n",
              "4        0                 4                  8.40                  8.70   \n",
              "\n",
              "  number of subject failed in current backlogs  \\\n",
              "0                           0                0   \n",
              "1                           0                0   \n",
              "2                           0                0   \n",
              "3                           0                0   \n",
              "4                           0                0   \n",
              "\n",
              "                            Additional courses opted  \\\n",
              "0                                                NaN   \n",
              "1  Web development, Python, Data structures and a...   \n",
              "2                                              AI/ML   \n",
              "3                                     Python, c, c++   \n",
              "4                                                  0   \n",
              "\n",
              "  number of paper published  intership opted 10th marks in percentage  \\\n",
              "0        0.6283185840707964              YES                     93.6   \n",
              "1                         0              YES                       89   \n",
              "2                         1              YES                     82.8   \n",
              "3                         1               NO                       89   \n",
              "4                         0              YES                       88   \n",
              "\n",
              "  12th marks in percentage 10th and 12th university/board  \n",
              "0                    82.31                          STATE  \n",
              "1                       83                          STATE  \n",
              "2                     84.6                           CBSE  \n",
              "3                       79                          STATE  \n",
              "4                       74                          STATE  "
            ]
          },
          "execution_count": 48,
          "metadata": {},
          "output_type": "execute_result"
        }
      ],
      "source": [
        "df.head()"
      ]
    },
    {
      "cell_type": "code",
      "execution_count": null,
      "metadata": {
        "id": "tGMw6eMe5Jtz"
      },
      "outputs": [],
      "source": [
        ""
      ]
    },
    {
      "cell_type": "code",
      "execution_count": null,
      "metadata": {
        "id": "kqJDGau05Jt0"
      },
      "outputs": [],
      "source": [
        ""
      ]
    },
    {
      "cell_type": "code",
      "execution_count": null,
      "metadata": {
        "id": "YRDvEC2u5Jt0",
        "outputId": "8faeb358-949c-4290-81e7-3aebe8fbdb8d"
      },
      "outputs": [
        {
          "data": {
            "text/plain": [
              "Timestamp                          0\n",
              "Email Address                      0\n",
              "Name of student                    0\n",
              "Roll Number (e.g. A101, B202)      0\n",
              "Division                           0\n",
              "Age                                0\n",
              "Gender                             0\n",
              "Study time in hrs                  6\n",
              "FE pointer(e.g. 7.9)               0\n",
              "SE pointer(e.g. 7.9)               0\n",
              "number of subject failed in        0\n",
              "current backlogs                   0\n",
              "Additional courses opted          11\n",
              "number of paper published          0\n",
              " intership opted                   1\n",
              "10th marks in percentage           0\n",
              "12th marks in percentage           2\n",
              "10th and 12th university/board     0\n",
              "dtype: int64"
            ]
          },
          "execution_count": 49,
          "metadata": {},
          "output_type": "execute_result"
        }
      ],
      "source": [
        "df.isnull().sum()"
      ]
    },
    {
      "cell_type": "code",
      "execution_count": null,
      "metadata": {
        "id": "tTQCCIMu5Jt1"
      },
      "outputs": [],
      "source": [
        ""
      ]
    }
  ],
  "metadata": {
    "kernelspec": {
      "display_name": "Python 3",
      "language": "python",
      "name": "python3"
    },
    "language_info": {
      "codemirror_mode": {
        "name": "ipython",
        "version": 3
      },
      "file_extension": ".py",
      "mimetype": "text/x-python",
      "name": "python",
      "nbconvert_exporter": "python",
      "pygments_lexer": "ipython3",
      "version": "3.8.5"
    },
    "colab": {
      "name": "DSBDA_A2_AcademicPerformanceDatasetCleaning.ipynb",
      "provenance": [],
      "collapsed_sections": [
        "2ufvPKi85JtS",
        "ExEujAa65JtW",
        "Xq49BJ6c5Jta",
        "qngio8V25Jtk",
        "aYXDdW2G5Jto",
        "Y__XCjbI5Jts"
      ]
    }
  },
  "nbformat": 4,
  "nbformat_minor": 0
}